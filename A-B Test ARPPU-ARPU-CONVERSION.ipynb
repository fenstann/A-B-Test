{
 "cells": [
  {
   "cell_type": "markdown",
   "id": "2ba206c1-7455-4b74-8846-dbe5d9ae7731",
   "metadata": {},
   "source": [
    "В нашей игре проводился А/В тест. Каждый игрок был распределен в одну из групп (контрольная или тестовая) и получил идентификатор 0 или 1 соответственно. В тесте мы хотели проверить гипотезу о том, что изменения в тестовой группе положительно повлияют на денежные показатели: ARPU, ARPPU и конверсию. Проведите анализ А/В теста."
   ]
  },
  {
   "cell_type": "code",
   "execution_count": 1,
   "id": "8a01c709-9343-44f8-9394-cf64956c4c35",
   "metadata": {},
   "outputs": [],
   "source": [
    "import numpy as np\n",
    "import pandas as pd \n",
    "import seaborn as sns\n",
    "import matplotlib.pyplot as plt\n",
    "%matplotlib inline\n",
    "\n",
    "\n",
    "from warnings import simplefilter\n",
    "# ignore all future warnings\n",
    "simplefilter(action='ignore', category=FutureWarning)"
   ]
  },
  {
   "cell_type": "code",
   "execution_count": 2,
   "id": "de15c92e-db02-405d-897a-6f57c16c2bc2",
   "metadata": {},
   "outputs": [
    {
     "data": {
      "text/html": [
       "<div>\n",
       "<style scoped>\n",
       "    .dataframe tbody tr th:only-of-type {\n",
       "        vertical-align: middle;\n",
       "    }\n",
       "\n",
       "    .dataframe tbody tr th {\n",
       "        vertical-align: top;\n",
       "    }\n",
       "\n",
       "    .dataframe thead th {\n",
       "        text-align: right;\n",
       "    }\n",
       "</style>\n",
       "<table border=\"1\" class=\"dataframe\">\n",
       "  <thead>\n",
       "    <tr style=\"text-align: right;\">\n",
       "      <th></th>\n",
       "      <th>geo_country</th>\n",
       "      <th>test_timestamp</th>\n",
       "      <th>user_revenue</th>\n",
       "      <th>user_payments</th>\n",
       "      <th>user_id</th>\n",
       "      <th>test_group</th>\n",
       "    </tr>\n",
       "  </thead>\n",
       "  <tbody>\n",
       "    <tr>\n",
       "      <th>0</th>\n",
       "      <td>Russia</td>\n",
       "      <td>2021-05-03 19:06:06.325</td>\n",
       "      <td>NaN</td>\n",
       "      <td>0</td>\n",
       "      <td>6d696b2e-f236-45b1-b770-5530b2a3b3cf</td>\n",
       "      <td>0</td>\n",
       "    </tr>\n",
       "    <tr>\n",
       "      <th>1</th>\n",
       "      <td>India</td>\n",
       "      <td>2021-05-04 17:13:35.877</td>\n",
       "      <td>NaN</td>\n",
       "      <td>0</td>\n",
       "      <td>3ae8cd76-14ef-4e47-99c9-637e9260205e</td>\n",
       "      <td>0</td>\n",
       "    </tr>\n",
       "    <tr>\n",
       "      <th>2</th>\n",
       "      <td>Russia</td>\n",
       "      <td>2021-05-01 01:56:49.796</td>\n",
       "      <td>1.223728</td>\n",
       "      <td>1</td>\n",
       "      <td>0bf7d591-a052-44a2-97a5-161791fb440d</td>\n",
       "      <td>0</td>\n",
       "    </tr>\n",
       "    <tr>\n",
       "      <th>3</th>\n",
       "      <td>Kazakhstan</td>\n",
       "      <td>2021-05-03 04:17:25.337</td>\n",
       "      <td>NaN</td>\n",
       "      <td>0</td>\n",
       "      <td>5f8a3459-e85d-451e-8f93-0c17664c70da</td>\n",
       "      <td>0</td>\n",
       "    </tr>\n",
       "    <tr>\n",
       "      <th>4</th>\n",
       "      <td>Switzerland</td>\n",
       "      <td>2021-05-20 10:49:18.064</td>\n",
       "      <td>NaN</td>\n",
       "      <td>0</td>\n",
       "      <td>f2ea93ed-b9c6-4d8b-88d0-7717f8931988</td>\n",
       "      <td>0</td>\n",
       "    </tr>\n",
       "  </tbody>\n",
       "</table>\n",
       "</div>"
      ],
      "text/plain": [
       "   geo_country           test_timestamp  user_revenue  user_payments  \\\n",
       "0       Russia  2021-05-03 19:06:06.325           NaN              0   \n",
       "1        India  2021-05-04 17:13:35.877           NaN              0   \n",
       "2       Russia  2021-05-01 01:56:49.796      1.223728              1   \n",
       "3   Kazakhstan  2021-05-03 04:17:25.337           NaN              0   \n",
       "4  Switzerland  2021-05-20 10:49:18.064           NaN              0   \n",
       "\n",
       "                                user_id  test_group  \n",
       "0  6d696b2e-f236-45b1-b770-5530b2a3b3cf           0  \n",
       "1  3ae8cd76-14ef-4e47-99c9-637e9260205e           0  \n",
       "2  0bf7d591-a052-44a2-97a5-161791fb440d           0  \n",
       "3  5f8a3459-e85d-451e-8f93-0c17664c70da           0  \n",
       "4  f2ea93ed-b9c6-4d8b-88d0-7717f8931988           0  "
      ]
     },
     "execution_count": 2,
     "metadata": {},
     "output_type": "execute_result"
    }
   ],
   "source": [
    "df= pd.read_csv('data.csv')\n",
    "df.head()"
   ]
  },
  {
   "cell_type": "markdown",
   "id": "ad9e5529-150b-4bfb-8134-e2220bbad646",
   "metadata": {},
   "source": [
    "##### Посмотрим на наши данные с группировкой по тестам. Узнаем Сколько всего было участников, сколько платящих, сумму, количество транзакций "
   ]
  },
  {
   "cell_type": "code",
   "execution_count": 3,
   "id": "9b8c978c-7baf-4ec9-96a2-cbf0e6c90292",
   "metadata": {},
   "outputs": [
    {
     "data": {
      "text/html": [
       "<div>\n",
       "<style scoped>\n",
       "    .dataframe tbody tr th:only-of-type {\n",
       "        vertical-align: middle;\n",
       "    }\n",
       "\n",
       "    .dataframe tbody tr th {\n",
       "        vertical-align: top;\n",
       "    }\n",
       "\n",
       "    .dataframe thead tr th {\n",
       "        text-align: left;\n",
       "    }\n",
       "</style>\n",
       "<table border=\"1\" class=\"dataframe\">\n",
       "  <thead>\n",
       "    <tr>\n",
       "      <th></th>\n",
       "      <th>test_group</th>\n",
       "      <th>user_id</th>\n",
       "      <th>user_payments</th>\n",
       "      <th colspan=\"2\" halign=\"left\">user_revenue</th>\n",
       "    </tr>\n",
       "    <tr>\n",
       "      <th></th>\n",
       "      <th></th>\n",
       "      <th>count</th>\n",
       "      <th>sum</th>\n",
       "      <th>sum</th>\n",
       "      <th>count</th>\n",
       "    </tr>\n",
       "  </thead>\n",
       "  <tbody>\n",
       "    <tr>\n",
       "      <th>0</th>\n",
       "      <td>0</td>\n",
       "      <td>45400</td>\n",
       "      <td>12235</td>\n",
       "      <td>17001.593107</td>\n",
       "      <td>3489</td>\n",
       "    </tr>\n",
       "    <tr>\n",
       "      <th>1</th>\n",
       "      <td>1</td>\n",
       "      <td>45600</td>\n",
       "      <td>11098</td>\n",
       "      <td>16090.426997</td>\n",
       "      <td>3243</td>\n",
       "    </tr>\n",
       "  </tbody>\n",
       "</table>\n",
       "</div>"
      ],
      "text/plain": [
       "  test_group user_id user_payments  user_revenue      \n",
       "               count           sum           sum count\n",
       "0          0   45400         12235  17001.593107  3489\n",
       "1          1   45600         11098  16090.426997  3243"
      ]
     },
     "execution_count": 3,
     "metadata": {},
     "output_type": "execute_result"
    }
   ],
   "source": [
    "metrics = df.groupby('test_group', as_index=False).agg({'user_id' :'count',\n",
    "                                             'user_payments' :'sum',\n",
    "                                              'user_revenue' : ['sum','count']\n",
    "                                             })\n",
    "metrics"
   ]
  },
  {
   "cell_type": "markdown",
   "id": "206a91fa-0ae5-4709-9f6e-5f328a10f650",
   "metadata": {},
   "source": [
    "##### Видно, что количество участников в обеих группах почти одинаковое, а другие характериситики отличаются примерно на 4-7% в большую сторону для контрольной группы\n",
    "\n",
    "##### Посмотрим как распределены странны между собой . Уберем страны, где количество платяжей было меньше 300"
   ]
  },
  {
   "cell_type": "code",
   "execution_count": 4,
   "id": "cb365589-8618-4a0a-ab69-1c76a8ed5371",
   "metadata": {},
   "outputs": [
    {
     "data": {
      "image/png": "[encoded data removed]",
      "text/plain": [
       "<Figure size 432x288 with 1 Axes>"
      ]
     },
     "metadata": {
      "needs_background": "light"
     },
     "output_type": "display_data"
    }
   ],
   "source": [
    "metric_county = df.groupby('geo_country', as_index=False).agg({'user_id' :'count','user_payments' :'sum','user_revenue' : ['sum','count']})\n",
    "                                                               \n",
    "metric_county[metric_county['user_id']['count']>1000]\n",
    "\n",
    "main_county = df[df['test_group'] == 0].groupby('geo_country', as_index=False).agg({'user_id' :'count'})\n",
    "main_county = main_county[main_county['user_id'] >300]\n",
    "\n",
    "test_county = df[df['test_group'] == 1].groupby('geo_country', as_index=False).agg({'user_id' :'count'})\n",
    "test_county = test_county[test_county['user_id'] >300]\n",
    "\n",
    "plt.bar(test_county['geo_country'],test_county['user_id'], color='b',alpha=0.5,label='Тестовая' )\n",
    "plt.bar(main_county['geo_country'],main_county['user_id'], color='r',alpha=0.5,label='Контрольная')\n",
    "plt.xticks(rotation=90)\n",
    "plt.legend()\n",
    "plt.show()"
   ]
  },
  {
   "cell_type": "markdown",
   "id": "a0642ba1-99f3-4b99-a202-2764d253b698",
   "metadata": {},
   "source": [
    "##### Как видно в контрольную группу попало больше US, а в Тестовую больше RUS. Возможно поэтому есть небольшое премущество в цифрах в контрольной группе"
   ]
  },
  {
   "cell_type": "markdown",
   "id": "90e4ed05-d0ac-4cdf-b149-3e49200b5b15",
   "metadata": {},
   "source": [
    "##### Теперь посмотрим на выборсы по платежам, если они есть избавимся от 0,05% самых высоких значений. \n",
    "##### Можно просто выкинуть значения больше 99.5 процентиля или можно заменить их максимальное число на границе 99.5 процентиля"
   ]
  },
  {
   "cell_type": "code",
   "execution_count": 5,
   "id": "b8b4d15f-2b4a-46c1-8966-ca99ded15e26",
   "metadata": {},
   "outputs": [
    {
     "data": {
      "image/png": "[encoded data removed]",
      "text/plain": [
       "<Figure size 432x288 with 1 Axes>"
      ]
     },
     "metadata": {
      "needs_background": "light"
     },
     "output_type": "display_data"
    },
    {
     "data": {
      "image/png": "[encoded data removed]",
      "text/plain": [
       "<Figure size 432x288 with 1 Axes>"
      ]
     },
     "metadata": {
      "needs_background": "light"
     },
     "output_type": "display_data"
    }
   ],
   "source": [
    "test_df_vibros = df[df['test_group'] == 1]\n",
    "control_df_vibros = df[df['test_group'] == 0]\n",
    "\n",
    "test_df = test_df_vibros.copy()\n",
    "control_df = control_df_vibros.copy()\n",
    "\n",
    "test_quan = np.nanquantile(test_df_vibros['user_revenue'], 0.995,axis=0)\n",
    "control_quan = np.nanquantile(control_df_vibros['user_revenue'], 0.995,axis=0)\n",
    "\n",
    "\n",
    "test_df['user_revenue'] = test_df_vibros['user_revenue'].apply(lambda x: test_quan if x>test_quan else x)\n",
    "control_df['user_revenue'] = control_df_vibros['user_revenue'].apply(lambda x: control_quan if x>control_quan else x)\n",
    "\n",
    "sns.boxplot(x=test_df_vibros['user_revenue'])\n",
    "plt.title('Тестовая группа')\n",
    "plt.show()\n",
    "sns.boxplot(x=control_df_vibros['user_revenue'])\n",
    "plt.title('Контрольная группа')\n",
    "plt.show()"
   ]
  },
  {
   "cell_type": "markdown",
   "id": "089297d9-4cb4-4f02-8b6a-28be703bf526",
   "metadata": {},
   "source": [
    "\n",
    "\n",
    "#### Переведем числа из таблицы в самом начале на bar plot"
   ]
  },
  {
   "cell_type": "code",
   "execution_count": 6,
   "id": "8afa9595-06fc-47fb-85ed-4075e4336f9e",
   "metadata": {},
   "outputs": [
    {
     "data": {
      "text/plain": [
       "Text(0.5, 1.0, 'Платящие люди')"
      ]
     },
     "execution_count": 6,
     "metadata": {},
     "output_type": "execute_result"
    },
    {
     "data": {
      "image/png": "[encoded data removed]",
      "text/plain": [
       "<Figure size 792x720 with 3 Axes>"
      ]
     },
     "metadata": {
      "needs_background": "light"
     },
     "output_type": "display_data"
    }
   ],
   "source": [
    "\n",
    "f = plt.figure(figsize=(11,10))\n",
    "ax = f.add_subplot(221)\n",
    "ax2 = f.add_subplot(222)\n",
    "ax3 = f.add_subplot(223)\n",
    "sns.barplot(x ='test_group'  ,y=metrics['user_payments']['sum'] , data = metrics,ax=ax ).set_title('Кол. платежей')\n",
    "sns.barplot(x ='test_group'  ,y=metrics['user_revenue']['sum'] , data = metrics,ax=ax2).set_title('Общая выручка ')\n",
    "sns.barplot(x ='test_group'  ,y=metrics['user_revenue']['count'] , data = metrics,ax=ax3).set_title('Платящие люди')"
   ]
  },
  {
   "cell_type": "markdown",
   "id": "adefc883-c9c3-4cb7-8a51-2d9e89023b65",
   "metadata": {},
   "source": [
    "##### Создадим два датафрейма с тестовой и контрольной группой. Рассчитаем метрики"
   ]
  },
  {
   "cell_type": "code",
   "execution_count": 7,
   "id": "86e6218e-cc1e-4afe-a48c-06098f96edd6",
   "metadata": {},
   "outputs": [
    {
     "data": {
      "text/html": [
       "<div>\n",
       "<style scoped>\n",
       "    .dataframe tbody tr th:only-of-type {\n",
       "        vertical-align: middle;\n",
       "    }\n",
       "\n",
       "    .dataframe tbody tr th {\n",
       "        vertical-align: top;\n",
       "    }\n",
       "\n",
       "    .dataframe thead th {\n",
       "        text-align: right;\n",
       "    }\n",
       "</style>\n",
       "<table border=\"1\" class=\"dataframe\">\n",
       "  <thead>\n",
       "    <tr style=\"text-align: right;\">\n",
       "      <th></th>\n",
       "      <th>Тестовая группа</th>\n",
       "      <th>Контрольная группа</th>\n",
       "    </tr>\n",
       "    <tr>\n",
       "      <th>Метрика</th>\n",
       "      <th></th>\n",
       "      <th></th>\n",
       "    </tr>\n",
       "  </thead>\n",
       "  <tbody>\n",
       "    <tr>\n",
       "      <th>ARPU</th>\n",
       "      <td>0.352860</td>\n",
       "      <td>0.372842</td>\n",
       "    </tr>\n",
       "    <tr>\n",
       "      <th>ARPPU</th>\n",
       "      <td>4.961587</td>\n",
       "      <td>4.872913</td>\n",
       "    </tr>\n",
       "    <tr>\n",
       "      <th>Конверсия</th>\n",
       "      <td>7.111842</td>\n",
       "      <td>7.685022</td>\n",
       "    </tr>\n",
       "  </tbody>\n",
       "</table>\n",
       "</div>"
      ],
      "text/plain": [
       "           Тестовая группа  Контрольная группа\n",
       "Метрика                                       \n",
       "ARPU              0.352860            0.372842\n",
       "ARPPU             4.961587            4.872913\n",
       "Конверсия         7.111842            7.685022"
      ]
     },
     "execution_count": 7,
     "metadata": {},
     "output_type": "execute_result"
    }
   ],
   "source": [
    "test_df = df[df['test_group'] == 1]\n",
    "control_df = df[df['test_group'] == 0]\n",
    "\n",
    "#Выручка\n",
    "test_revenue = test_df['user_revenue'].sum()\n",
    "control_revenue = control_df['user_revenue'].sum()\n",
    "\n",
    "#Общее количество пользователей\n",
    "test_users = test_df['user_id'].count()\n",
    "control_users = control_df['user_id'].count()\n",
    "\n",
    "#Количество платящих пользователей\n",
    "test_pay_users = test_df['user_revenue'].count()\n",
    "control_pay_users = control_df['user_revenue'].count()\n",
    "\n",
    "#ARPU= Revenue / Active users\n",
    "test_ARPU = test_revenue/test_users\n",
    "control_ARPU = control_revenue/test_users\n",
    "\n",
    "#ARPPU = Revenue/ paying users\n",
    "test_ARPPU = test_revenue/test_pay_users\n",
    "control_ARPPU = control_revenue/control_pay_users\n",
    "\n",
    "#Коневерсия = платащие пользователя / все пользователи\n",
    "test_conv = test_pay_users/test_users *100\n",
    "control_conv = control_pay_users/control_users *100\n",
    "\n",
    "\n",
    "metrics_calc = pd.DataFrame({'Метрика': ['ARPU', 'ARPPU', 'Конверсия', ], \n",
    "                             'Тестовая группа': [test_ARPU, test_ARPPU,test_conv],\n",
    "                             'Контрольная группа': [control_ARPU, control_ARPPU,control_conv]}).set_index('Метрика')\n",
    "metrics_calc"
   ]
  },
  {
   "cell_type": "code",
   "execution_count": 8,
   "id": "5bfce1d1-e271-4d6b-8592-be6f0b37c65d",
   "metadata": {},
   "outputs": [
    {
     "data": {
      "text/plain": [
       "<AxesSubplot:xlabel='user_revenue', ylabel='Density'>"
      ]
     },
     "execution_count": 8,
     "metadata": {},
     "output_type": "execute_result"
    },
    {
     "data": {
      "image/png": "[encoded data removed]",
      "text/plain": [
       "<Figure size 432x288 with 1 Axes>"
      ]
     },
     "metadata": {
      "needs_background": "light"
     },
     "output_type": "display_data"
    }
   ],
   "source": [
    "sns.distplot(test_df[test_df['user_revenue']<50]['user_revenue'], color='r')\n",
    "sns.distplot(control_df[control_df['user_revenue'] <50]['user_revenue'], color='b')"
   ]
  },
  {
   "cell_type": "markdown",
   "id": "48ca6c35-2cf3-4e7c-ba96-ad542bbefef0",
   "metadata": {},
   "source": [
    "##### Ожидаемо наше распределение имеет наибольший объем в среднем чеке 0-5$ "
   ]
  },
  {
   "cell_type": "markdown",
   "id": "e3f8d9ea-0afd-47a3-8a3f-30780706765c",
   "metadata": {},
   "source": [
    "##### Проверим, есть ли различия между этими метриками. \n",
    "##### Возьмем уровень значимости равный 5% (alpha)\n",
    "##### Для конверсии выдвеним гипотезу H0, что конверсия тестовой группы = конверсии контрольной группы ( Cmain = Ctest), те H1 будет Cmain < Ctest\n",
    "###### Найдем p value с помощью proportions_ztes, то есть теста Фишера,\n"
   ]
  },
  {
   "cell_type": "code",
   "execution_count": 9,
   "id": "f1a0bb01-8a81-412e-a791-9c5f24f9d6a5",
   "metadata": {},
   "outputs": [
    {
     "name": "stdout",
     "output_type": "stream",
     "text": [
      "0.8748711281315769 False\n"
     ]
    }
   ],
   "source": [
    "from statsmodels.stats.proportion import proportions_ztest\n",
    "alpha = 0.05\n",
    "stat, pvalue = proportions_ztest([control_conv,test_conv], [control_users,test_users])\n",
    "print(pvalue, pvalue<alpha)"
   ]
  },
  {
   "cell_type": "markdown",
   "id": "41a69d1a-c5b0-4c70-8f68-ac6f52bd996e",
   "metadata": {},
   "source": [
    "##### Для конверсии мы получили pvalue =0.87 и поэтому у нас нет оснований отвергнуть нулевую гипотезу "
   ]
  },
  {
   "cell_type": "markdown",
   "id": "9d6d22dd-0a84-4636-ab5b-7a4c7bae918e",
   "metadata": {},
   "source": [
    "##### Нулевая гипотеза ARPUtest = ARPUcontrol\n",
    "##### H1 ARPUtest > ARPUcontrol\n",
    "##### Будем использвать бутстрэп для проверки нулевой гипотезы, возьмем 1000 выборок размером 45000. "
   ]
  },
  {
   "cell_type": "code",
   "execution_count": 10,
   "id": "917ff1dc-c209-42de-bf81-8e5f09eb1b4d",
   "metadata": {},
   "outputs": [],
   "source": [
    "\n",
    "import random\n",
    "\n",
    "def func_ARPU(s1):\n",
    "    return np.sum(s1)/len(s1)\n",
    "\n",
    "def func_ARPPU(s1):\n",
    "    return np.sum(s1)/np.count_nonzero(s1)\n",
    "\n",
    "#ARPU\n",
    "def bootstrap(test_df,control_df,func,N,column):\n",
    "    diff = np.zeros((N))\n",
    "    p1_arr =  np.zeros((N))\n",
    "    p2_arr =  np.zeros((N))\n",
    "    zz = test_df.fillna(0)\n",
    "    ss = control_df.fillna(0)\n",
    "    for i in range(0,N):\n",
    "        s1 = random.choices(zz[column].values, k= 45000)\n",
    "        s2 = random.choices(ss[column].values, k= 45000)\n",
    "        p1 = func(s1)\n",
    "        p2 = func(s2)\n",
    "        p1_arr[i] = np.mean(p1)\n",
    "        p2_arr[i] = np.mean(p2)\n",
    "        diff[i] = p1 - p2\n",
    "    return diff,p1_arr,p2_arr\n",
    "\n"
   ]
  },
  {
   "cell_type": "code",
   "execution_count": 11,
   "id": "551aafee-ed95-46b8-9ccd-ff05bfbdd7aa",
   "metadata": {},
   "outputs": [
    {
     "data": {
      "text/plain": [
       "<matplotlib.legend.Legend at 0x1bf746f7d90>"
      ]
     },
     "execution_count": 11,
     "metadata": {},
     "output_type": "execute_result"
    },
    {
     "data": {
      "image/png": "[encoded data removed]",
      "text/plain": [
       "<Figure size 432x288 with 1 Axes>"
      ]
     },
     "metadata": {
      "needs_background": "light"
     },
     "output_type": "display_data"
    }
   ],
   "source": [
    "diff_arpu,p1_arr_arpu,p2_arr_arpu =  bootstrap(test_df,control_df,func_ARPU,1000,'user_revenue')\n",
    "\n",
    "diff_arpu_original = test_ARPU - control_ARPU\n",
    "\n",
    "sns.histplot(p1_arr_arpu, color='r',alpha=0.5,label ='Test')\n",
    "sns.histplot(p2_arr_arpu, color='b',alpha=0.5,label ='Control')\n",
    "plt.legend()\n",
    "#p = np.sum(bs_rep>= mean_diff) / len(bs_rep)"
   ]
  },
  {
   "cell_type": "code",
   "execution_count": 13,
   "id": "28ec4e72-7a27-41f1-9424-2a962628d94e",
   "metadata": {},
   "outputs": [
    {
     "data": {
      "text/plain": [
       "<matplotlib.collections.LineCollection at 0x1bf745d6eb0>"
      ]
     },
     "execution_count": 13,
     "metadata": {},
     "output_type": "execute_result"
    },
    {
     "data": {
      "image/png": "[encoded data removed]",
      "text/plain": [
       "<Figure size 432x288 with 1 Axes>"
      ]
     },
     "metadata": {
      "needs_background": "light"
     },
     "output_type": "display_data"
    }
   ],
   "source": [
    "borders_arpu = np.percentile(diff_arpu,[2.5,97.5])\n",
    "borders_arpu\n",
    "sns.distplot((p1_arr_arpu-p2_arr_arpu), color='g')\n",
    "plt.vlines(borders_arpu,ymin=0, ymax=3, color='r', linestyles='--')\n"
   ]
  },
  {
   "cell_type": "markdown",
   "id": "b55845ef-a1ed-46ef-9e9d-0f8d14ebf97b",
   "metadata": {},
   "source": [
    "#### Ноль вошел в наш доверительный интервал, а значит мы не отвергаем H0\n",
    "\n",
    "##### Теперь проделаем тоже самое и для ARPPU\n"
   ]
  },
  {
   "cell_type": "code",
   "execution_count": null,
   "id": "d3ff9e84-c7ef-407a-8707-840ff7f1e70a",
   "metadata": {},
   "outputs": [],
   "source": []
  },
  {
   "cell_type": "code",
   "execution_count": 14,
   "id": "b19316f1-70c9-4d22-9fda-81f68f0bc278",
   "metadata": {},
   "outputs": [],
   "source": [
    "#ARPU\n",
    "diff_arppu,p1_arr_arppu,p2_arr_arppu =  bootstrap(test_df,control_df,func_ARPPU,1500,'user_revenue')"
   ]
  },
  {
   "cell_type": "code",
   "execution_count": 15,
   "id": "44b1539a-4dec-4da3-b3df-cdfb1a2353bf",
   "metadata": {},
   "outputs": [
    {
     "data": {
      "text/plain": [
       "<matplotlib.legend.Legend at 0x1bf74fcfdc0>"
      ]
     },
     "execution_count": 15,
     "metadata": {},
     "output_type": "execute_result"
    },
    {
     "data": {
      "image/png": "[encoded data removed]",
      "text/plain": [
       "<Figure size 432x288 with 1 Axes>"
      ]
     },
     "metadata": {
      "needs_background": "light"
     },
     "output_type": "display_data"
    }
   ],
   "source": [
    "sns.histplot(p1_arr_arppu, color='r',alpha=0.5,label ='Test')\n",
    "sns.histplot(p2_arr_arppu, color='b',alpha=0.5,label ='Control')\n",
    "plt.legend()"
   ]
  },
  {
   "cell_type": "code",
   "execution_count": 16,
   "id": "569877ec-ef38-4145-b889-1b5785e72d3d",
   "metadata": {},
   "outputs": [
    {
     "data": {
      "text/plain": [
       "<matplotlib.collections.LineCollection at 0x1bf74c7cac0>"
      ]
     },
     "execution_count": 16,
     "metadata": {},
     "output_type": "execute_result"
    },
    {
     "data": {
      "image/png": "[encoded data removed]",
      "text/plain": [
       "<Figure size 432x288 with 1 Axes>"
      ]
     },
     "metadata": {
      "needs_background": "light"
     },
     "output_type": "display_data"
    }
   ],
   "source": [
    "borders_arppu = np.percentile(diff_arppu,[2.5,97.5])\n",
    "borders_arppu\n",
    "sns.distplot(diff_arppu)\n",
    "plt.vlines(borders_arppu,ymin=0, ymax=2, color='g', linestyles='--')"
   ]
  },
  {
   "cell_type": "markdown",
   "id": "56c2a769-798d-4431-bb61-ce92d446d796",
   "metadata": {},
   "source": [
    "#### У ARPPU 0 тоже вошел в наш доверительный интервал, значит H0 не отвергаем "
   ]
  },
  {
   "cell_type": "markdown",
   "id": "a9ccf8a6-1eaa-4ef1-b138-dee028540853",
   "metadata": {},
   "source": [
    "# Итог\n",
    "\n",
    "### Конверсия\n",
    "#### Опровергнуть нулевую гипотезу нельзя, ибо p value > выбранной ошибки \n",
    "\n",
    "### ARPU\n",
    "#### Опровергнуть нулевую гипотезу нельзя, так как 0 входит в интервал разницы групп\n",
    "\n",
    "### ARPPU\n",
    "#### Опровергнуть нулевую гипотезу нельзя, так как 0 входит в интервал разницы групп\n",
    "\n",
    "#### Подводя итоги можно сказать, что тестовая группа не дала значительных статистических результатов в сравнение с контрольной."
   ]
  },
  {
   "cell_type": "code",
   "execution_count": null,
   "id": "1674c2f9-408a-49c6-ac55-b30e1c9a6b34",
   "metadata": {},
   "outputs": [],
   "source": []
  },
  {
   "cell_type": "code",
   "execution_count": null,
   "id": "2e7956d6-4623-4b9a-ada0-eb187bc3cfc8",
   "metadata": {},
   "outputs": [],
   "source": []
  }
 ],
 "metadata": {
  "kernelspec": {
   "display_name": "Python 3",
   "language": "python",
   "name": "python3"
  },
  "language_info": {
   "codemirror_mode": {
    "name": "ipython",
    "version": 3
   },
   "file_extension": ".py",
   "mimetype": "text/x-python",
   "name": "python",
   "nbconvert_exporter": "python",
   "pygments_lexer": "ipython3",
   "version": "3.8.8"
  }
 },
 "nbformat": 4,
 "nbformat_minor": 5
}
